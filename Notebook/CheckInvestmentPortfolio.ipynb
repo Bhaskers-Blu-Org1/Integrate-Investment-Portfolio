{
 "cells": [
  {
   "cell_type": "markdown",
   "metadata": {},
   "source": [
    "###  Get Portfolio from Investment Portfolio\n",
    "__Before Running__ : Enter Investment Portfolio credentials"
   ]
  },
  {
   "cell_type": "code",
   "execution_count": 2,
   "metadata": {},
   "outputs": [
    {
     "name": "stdout",
     "output_type": "stream",
     "text": [
      "Get Portfolios\n",
      "Investment Portfolio status: 200\n",
      "{\n",
      "    \"portfolios\": [\n",
      "        {\n",
      "            \"name\": \"***3582\",\n",
      "            \"timestamp\": \"2017-08-14T15:54:58.297Z\"\n",
      "        },\n",
      "        {\n",
      "            \"name\": \"***9068\",\n",
      "            \"timestamp\": \"2017-08-11T12:02:49.126Z\"\n",
      "        }\n",
      "    ]\n",
      "}\n"
     ]
    }
   ],
   "source": [
    "import requests\n",
    "import json\n",
    "\n",
    "\n",
    "#enter investment-portfolio credentials\n",
    "IP_W_username=\"\"\n",
    "IP_W_password=\"\"\n",
    "IP_R_username=\"\"\n",
    "IP_R_password=\"\"\n",
    "\n",
    "#make the request\n",
    "print (\"Get Portfolios\")\n",
    "BASEURL = \"https://investment-portfolio.mybluemix.net/api/v1/portfolios/\"\n",
    "headers = {\n",
    "    'accept': \"application/json\",\n",
    "    'content-type': \"application/json\"\n",
    "    }\n",
    "get_data = requests.get(BASEURL, auth=(IP_R_username, IP_R_password), headers=headers)\n",
    "print(\"Investment Portfolio status: \" + str(get_data.status_code))\n",
    "\n",
    "#print json data\n",
    "data = get_data.json()\n",
    "print (json.dumps(data, indent=4, sort_keys=True))\n"
   ]
  },
  {
   "cell_type": "markdown",
   "metadata": {},
   "source": [
    " ###  Get Holdings from Investment Portfolio\n",
    "__Before Running__ : Enter Portfolio name"
   ]
  },
  {
   "cell_type": "code",
   "execution_count": 3,
   "metadata": {},
   "outputs": [
    {
     "name": "stdout",
     "output_type": "stream",
     "text": [
      "Get Portfolio Holdings for ***3582\n",
      "Investment Portfolio - Get Portfolio Holdings status: 200\n",
      "{\n",
      "    \"holdings\": [\n",
      "        {\n",
      "            \"_rev\": \"1-72dabc8c55ed5c8789e8795db3c07e8f\",\n",
      "            \"holdings\": [\n",
      "                {\n",
      "                    \"asset\": \"AF\",\n",
      "                    \"companyName\": \"Astoria Financial Corporation\",\n",
      "                    \"quantity\": 463\n",
      "                },\n",
      "                {\n",
      "                    \"asset\": \"CBL\",\n",
      "                    \"companyName\": \"CBL & Associates Properties Inc.\",\n",
      "                    \"quantity\": 1805\n",
      "                },\n",
      "                {\n",
      "                    \"asset\": \"HEI\",\n",
      "                    \"companyName\": \"Heico Corporation\",\n",
      "                    \"quantity\": 196.48\n",
      "                },\n",
      "                {\n",
      "                    \"asset\": \"XRX\",\n",
      "                    \"companyName\": \"Xerox Corporation\",\n",
      "                    \"quantity\": 450.51\n",
      "                },\n",
      "                {\n",
      "                    \"asset\": \"CNQ\",\n",
      "                    \"companyName\": \"Canadian Natural Resources Limited\",\n",
      "                    \"quantity\": 287\n",
      "                },\n",
      "                {\n",
      "                    \"asset\": \"PTLA\",\n",
      "                    \"companyName\": \"Portola Pharmaceuticals Inc.\",\n",
      "                    \"quantity\": 113\n",
      "                },\n",
      "                {\n",
      "                    \"asset\": \"EMHY\",\n",
      "                    \"companyName\": \"iShares Emerging Markets High Yield Bond\",\n",
      "                    \"quantity\": 160\n",
      "                },\n",
      "                {\n",
      "                    \"asset\": \"QQQ\",\n",
      "                    \"companyName\": \"PowerShares QQQ Trust Series 1\",\n",
      "                    \"quantity\": 10\n",
      "                },\n",
      "                {\n",
      "                    \"asset\": \"POBCX\",\n",
      "                    \"companyName\": \"Pacific Funds Portfolio Optimization Moderate-Conservative\",\n",
      "                    \"quantity\": 1648\n",
      "                }\n",
      "            ],\n",
      "            \"timestamp\": \"2017-08-14T16:30:28.525Z\"\n",
      "        }\n",
      "    ]\n",
      "}\n"
     ]
    }
   ],
   "source": [
    "#enter Portfolio ID\n",
    "Portfolio = \"\"\n",
    "\n",
    "#make the request\n",
    "print (\"Get Portfolio Holdings for \" + Portfolio)\n",
    "BASEURL = \"https://investment-portfolio.mybluemix.net/api/v1/portfolios/\" + Portfolio + \"/holdings?latest=true\"\n",
    "headers = {\n",
    "    'accept': \"application/json\",\n",
    "    'content-type': \"application/json\"\n",
    "    }\n",
    "get_data = requests.get(BASEURL, auth=(IP_R_username, IP_R_password), headers=headers)\n",
    "print(\"Investment Portfolio - Get Portfolio Holdings status: \" + str(get_data.status_code))\n",
    "\n",
    "#print json data\n",
    "data = get_data.json()\n",
    "print (json.dumps(data, indent=4, sort_keys=True))\n"
   ]
  },
  {
   "cell_type": "code",
   "execution_count": null,
   "metadata": {
    "collapsed": true
   },
   "outputs": [],
   "source": []
  }
 ],
 "metadata": {
  "kernelspec": {
   "display_name": "Python 3",
   "language": "python",
   "name": "python3"
  },
  "language_info": {
   "codemirror_mode": {
    "name": "ipython",
    "version": 3
   },
   "file_extension": ".py",
   "mimetype": "text/x-python",
   "name": "python",
   "nbconvert_exporter": "python",
   "pygments_lexer": "ipython3",
   "version": "3.6.1"
  }
 },
 "nbformat": 4,
 "nbformat_minor": 2
}
