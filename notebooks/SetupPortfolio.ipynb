{
 "cells": [
  {
   "cell_type": "markdown",
   "metadata": {},
   "source": [
    "# Integrate an Investment Portfolio\n",
    "\n",
    "### This notebook walks through the steps to integerate your brokerage account(s) into IBM's Investment Portfolio using Quovo's Aggregation API.\n",
    "\n",
    "#### Before starting:\n",
    "\n",
    "* Create a [Quovo account](https://www.quovo.com/pricing/) and [Bluemix Investment Portfolio](https://console.ng.bluemix.net/catalog/services/investment-portfolio) service\n",
    "* In the next cell, enter your:\n",
    "    * Investment Portfolio credentials\n",
    "    * Quovo account information\n",
    "    * Brokerage ID - the Brokerage ID for a financial institute can be found in 'brokerage.json'\n",
    "    * Username and password associated with the brokerage account.  \n",
    "* Walk through the steps to integrate with Investment Portfolio \n",
    "* Using the next cell some metrics are tracked. To disable tracking, simply remove the last 3 lines of code in the next cell. You can visit the [Privacy Notice](https://github.com/IBM/Integrate-Investment-Portfolio#privacy-notice) for more information."
   ]
  },
  {
   "cell_type": "code",
   "execution_count": null,
   "metadata": {
    "collapsed": true
   },
   "outputs": [],
   "source": [
    "#Enter credentials\n",
    "\n",
    "#enter Quovo username/password\n",
    "quovo_username = \"\"\n",
    "quovo_password = \"\"\n",
    "\n",
    "#enter name and email of user\n",
    "quovo_name = \"\"\n",
    "quovo_email = \"\"\n",
    "\n",
    "#enter Brokerage ID assoicated by quovo, 21534 - Test Data Brokerage\n",
    "brokerage_ID = 21534\n",
    "\n",
    "#enter brokerage username and password\n",
    "brokerage_username = \"testusername\"\n",
    "brokerage_password = \"testpass\"\n",
    "\n",
    "#enter Investment Portfolio credentials\n",
    "IP_W_username=\"\"\n",
    "IP_W_password=\"\"\n",
    "IP_R_username=\"\"\n",
    "IP_R_password=\"\"\n",
    "\n",
    "#Metrics\n",
    "!pip install -q metrics-tracker-client\n",
    "import metrics_tracker_client\n"
    "metrics_tracker_client.DSX('IBM/Integrate-Investment-Portfolio')\n"
   ]
  },
  {
   "cell_type": "markdown",
   "metadata": {},
   "source": [
    "## Step 1 - Get an Access Token\n",
    "\n",
    "Run the following script to get a Quovo access token which is needed to make Quovo's Aggregation API calls. An access token is granted for 1 hour and needs to be retrieved else remaining calls will return with \"The given name is already in use\".   \n",
    "After making the call, if a token is generated, the script will retrieve the token and save the returned data in 'token.json' file. If there is an issue retrieving token (i.e running this script twice within an hour), the script will look to retrieve the token from 'token.json' file."
   ]
  },
  {
   "cell_type": "code",
   "execution_count": null,
   "metadata": {
    "collapsed": true,
    "scrolled": true
   },
   "outputs": [],
   "source": [
    "#Get an Access Token\n",
    "\n",
    "import requests\n",
    "import json\n",
    "import os\n",
    "\n",
    "#make the request\n",
    "print (\"Get Quovo Access Token\")\n",
    "BASEURL = \"https://api.quovo.com/v2/tokens\"\n",
    "headers = {\n",
    "    'Content-Type': \"application/json\"\n",
    "    }\n",
    "data = {\n",
    "    'name': \"main_token\"\n",
    "    }\n",
    "get_data = requests.post(BASEURL, auth=(quovo_username, quovo_password), headers=headers, data=json.dumps(data))\n",
    "data = get_data.json()\n",
    "json_data = json.dumps(data)\n",
    "\n",
    "#if access token present, create 'token.json' file and assign token variable\n",
    "if 'access_token' in data:\n",
    "    f = open(\"token.json\", \"w\")\n",
    "    f.write(json_data)\n",
    "    f.close()\n",
    "\n",
    "    token = data[\"access_token\"][\"token\"]\n",
    "    print (json.dumps(data, indent=4, sort_keys=True))\n",
    "\n",
    "#if access token present, create 'token.json' file and assign token variable\n",
    "if 'access_token' in data:\n",
    "    f = open(\"token.json\", \"w\")\n",
    "    f.write(json_data)\n",
    "    f.close()\n",
    "\n",
    "    token = data[\"access_token\"][\"token\"]\n",
    "    print (json.dumps(data, indent=4, sort_keys=True))\n",
    "\n",
    "#else if token name in use, get token from 'token.json'\n",
    "elif data[\"message\"] == \"The given name is already in use.\" and os.path.isfile('token.json'):\n",
    "    print (\"Get token from token.json\")\n",
    "    with open('token.json') as data_file:\n",
    "        token_data = json.load(data_file)\n",
    "        token = token_data[\"access_token\"][\"token\"]\n",
    "#else print status and message\n",
    "else:\n",
    "    print (json.dumps(data, indent=4, sort_keys=True))\n",
    "    print (\"status: \" + str(data[\"status\"]))\n",
    "    print (\"message: \" + str(data[\"message\"]))\n",
    "    \n",
    "print (\"token: \" + token)"
   ]
  },
  {
   "cell_type": "markdown",
   "metadata": {},
   "source": [
    "## Step 2 - Create/Get User\n",
    "\n",
    "We need to create user who will be the owner of the portfolio. The parameters of 'name' and 'email' are optional. The script will create user if it did not exist previously, otherwise it will get the user data.  \n",
    "The User ID will be used in next step to create account."
   ]
  },
  {
   "cell_type": "code",
   "execution_count": null,
   "metadata": {
    "collapsed": true
   },
   "outputs": [],
   "source": [
    "#Create/Get user\n",
    "\n",
    "#make the request to create user\n",
    "BASEURL = \"https://api.quovo.com/v2/users\"\n",
    "headers = {\n",
    "    'Authorization': \"Bearer \" + token,\n",
    "    'Content-Type': \"application/json\"\n",
    "    }\n",
    "data = {\n",
    "    'username': \"main_token\",\n",
    "    'name': quovo_name,\n",
    "    'email': quovo_email\n",
    "    }\n",
    "\n",
    "get_data = requests.post(BASEURL, headers=headers, data=json.dumps(data))\n",
    "data = get_data.json()\n",
    "json_data = json.dumps(data)\n",
    "\n",
    "#if user is created, retrieve the User ID\n",
    "if 'user' in data:        \n",
    "    print (\"Create User\")\n",
    "    print (json.dumps(data, indent=4, sort_keys=True))    \n",
    "    user_ID = data[\"user\"][\"id\"]    \n",
    "    print (\"User ID: \" + str(user_ID))\n",
    "\n",
    "#else get all users, and assign User ID\n",
    "else:    \n",
    "    headers = {\n",
    "        'Authorization': \"Bearer \" + token\n",
    "        }\n",
    "    get_user_data = requests.get(BASEURL, headers=headers)\n",
    "    user_data = get_user_data.json()\n",
    "    if 'users' in user_data:        \n",
    "        print (\"Get User\")\n",
    "        print (json.dumps(user_data, indent=4, sort_keys=True))\n",
    "        user_ID = user_data[\"users\"][0][\"id\"]\n",
    "        print (\"User ID: \" + str(user_ID))\n",
    "    else:\n",
    "        print (\"status: \" + str(data[\"status\"]))\n",
    "        print (\"message: \" + str(data[\"message\"]))"
   ]
  },
  {
   "cell_type": "markdown",
   "metadata": {},
   "source": [
    "## Step 3 - Create/Get Account\n",
    "\n",
    "Next we will create an account which will represent the connection to the financial institution. The script will create the account using the Brokerage ID and identifier for each brokerage or financial institution (view brokerage.json for ID's for a brokerage).  In addition, a user's brokerage account's username and password will be passed as data parameter as well.  \n",
    "If an account has been created previously, then we will get the account information based on Brokerage ID. The Account ID will be used to sync the account and retrieve portfolio data and positions."
   ]
  },
  {
   "cell_type": "code",
   "execution_count": null,
   "metadata": {
    "collapsed": true
   },
   "outputs": [],
   "source": [
    "#Create/Get account\n",
    "\n",
    "#make the request to create account\n",
    "BASEURL = \"https://api.quovo.com/v2/users/\" + str(user_ID) + \"/accounts\"\n",
    "headers = {\n",
    "    'Authorization': \"Bearer \" + token,\n",
    "    'Content-Type': \"application/json\"\n",
    "    }\n",
    "data = {\n",
    "    'brokerage': brokerage_ID,\n",
    "    'username': brokerage_username,\n",
    "    'password': brokerage_password\n",
    "    }\n",
    "get_data = requests.post(BASEURL, headers=headers, data=json.dumps(data))\n",
    "data = get_data.json()\n",
    "\n",
    "#if account is created, retrieve the Account ID\n",
    "if 'account' in data:\n",
    "    print (\"Create account\")\n",
    "    account_id = data[\"account\"][\"id\"]\n",
    "    print (json.dumps(data, indent=4, sort_keys=True))\n",
    "\n",
    "#else if the account exists, then get accounts\n",
    "elif data[\"id\"] == \"duplicate_account\":\n",
    "    print (\"Get Account\")\n",
    "    BASEURL = \"https://api.quovo.com/v2/accounts\"\n",
    "    headers = {\n",
    "        'Authorization': \"Bearer \" + token\n",
    "        }\n",
    "    get_account_data = requests.get(BASEURL, headers=headers)\n",
    "    account_data = get_account_data.json()\n",
    "\n",
    "    print (json.dumps(account_data, indent=4, sort_keys=True))\n",
    "    \n",
    "    #find the account with the same brokerage and assign Account ID\n",
    "    for accounts in account_data['accounts']:\n",
    "        if accounts['brokerage'] ==  brokerage_ID:\n",
    "            account_id = accounts[\"id\"]\n",
    "\n",
    "#else print the returned status and message\n",
    "else:\n",
    "    print (\"status: \" + str(data[\"status\"]))\n",
    "    print (\"message: \" + str(data[\"message\"]))\n",
    "\n",
    "print (\"Account ID: \" + str(account_id))"
   ]
  },
  {
   "cell_type": "markdown",
   "metadata": {},
   "source": [
    "## Step 4 - Sync Account\n",
    "\n",
    "We will sync the account, which is an ongoing update attempt on the account. Run the script below to sync the account.     \n",
    "Ensure sync __\"status\"__ is __\"syncing\"__"
   ]
  },
  {
   "cell_type": "code",
   "execution_count": null,
   "metadata": {
    "collapsed": true
   },
   "outputs": [],
   "source": [
    "#Sync account\n",
    "\n",
    "#make the request\n",
    "print (\"Sync account\")\n",
    "BASEURL = \"https://api.quovo.com/v2/accounts/\" + str(account_id) + \"/sync\"\n",
    "headers = {\n",
    "    'Authorization': \"Bearer \" + token\n",
    "    }\n",
    "get_data = requests.post(BASEURL, headers=headers)\n",
    "\n",
    "#print json data\n",
    "data = get_data.json()\n",
    "print (json.dumps(data, indent=4, sort_keys=True))"
   ]
  },
  {
   "cell_type": "markdown",
   "metadata": {},
   "source": [
    "## Step 5 - Check Sync\n",
    "\n",
    "We can check the sync status until the account is synced. This call can be used repeatedly until our call returns a final Account __\"status\"__ of __“good”__, with a __\"progress\"__ of __null__. This signifies the end of our sync.\n"
   ]
  },
  {
   "cell_type": "code",
   "execution_count": null,
   "metadata": {
    "collapsed": true
   },
   "outputs": [],
   "source": [
    "# Check sync till status: good\n",
    "\n",
    "#make the request\n",
    "print (\"Check Sync\")\n",
    "BASEURL = \"https://api.quovo.com/v2/accounts/\" + str(account_id) + \"/sync\"\n",
    "\n",
    "headers = {\n",
    "    'Authorization': \"Bearer \" + token\n",
    "    }\n",
    "get_data = requests.get(BASEURL, headers=headers)\n",
    "\n",
    "#print json data\n",
    "data = get_data.json()\n",
    "print (json.dumps(data, indent=4, sort_keys=True))"
   ]
  },
  {
   "cell_type": "markdown",
   "metadata": {},
   "source": [
    "## Step 6 - Get Portfolios\n",
    "\n",
    "This script will get portfolios linked to the account. If there are multiple portfolios linked to the account, the first portfolio will be used here to load into the Investment Portfolio service. The Portfolio ID will be used in the next steps to retrieve portfolio positions."
   ]
  },
  {
   "cell_type": "code",
   "execution_count": null,
   "metadata": {
    "collapsed": true
   },
   "outputs": [],
   "source": [
    "# Get Portfolios\n",
    "\n",
    "print (\"Get Portfolios - (Pick first portfolio if multiple portfolios in the account)\")\n",
    "\n",
    "#make the request\n",
    "BASEURL = \"https://api.quovo.com/v2/accounts/\" + str(account_id) + \"/portfolios\"\n",
    "headers = {\n",
    "    'Authorization': \"Bearer \" + token\n",
    "    }\n",
    "get_data = requests.get(BASEURL, headers=headers)\n",
    "\n",
    "#print portfolios json data\n",
    "portfolios_data = get_data.json()\n",
    "print (json.dumps(portfolios_data, indent=4, sort_keys=True))\n",
    "\n",
    "#retrieve Portfolio ID\n",
    "portfolio_id = portfolios_data[\"portfolios\"][0][\"id\"]\n",
    "print (\"Portfolio ID: \" + str(portfolio_id))"
   ]
  },
  {
   "cell_type": "markdown",
   "metadata": {},
   "source": [
    "## Step 7 - Get Portfolio Positions\n",
    "\n",
    "Next, we can run the following script to get postions data for the portfolio. "
   ]
  },
  {
   "cell_type": "code",
   "execution_count": null,
   "metadata": {
    "collapsed": true
   },
   "outputs": [],
   "source": [
    "#Get Portfolio Positions\n",
    "\n",
    "#make the request\n",
    "print (\"Get Positions of Portfolio\")\n",
    "BASEURL = \"https://api.quovo.com/v2/portfolios/\" + str(portfolio_id) + \"/positions\"\n",
    "headers = {\n",
    "    'Authorization': \"Bearer \" + token\n",
    "    }\n",
    "get_data = requests.get(BASEURL, headers=headers)\n",
    "\n",
    "#print positions json data\n",
    "positions_data = get_data.json()\n",
    "print (json.dumps(positions_data, indent=4, sort_keys=True))\n"
   ]
  },
  {
   "cell_type": "markdown",
   "metadata": {},
   "source": [
    "## Step 8 - Load portfolio data into Investment Portfolio\n",
    "\n",
    "Now that we have the portfolio data and positions data for the portfolio, we are ready to integrate with the Investment Portfolio service. The script below will create the portfolio in the Investment Portfolio service."
   ]
  },
  {
   "cell_type": "code",
   "execution_count": null,
   "metadata": {
    "collapsed": true
   },
   "outputs": [],
   "source": [
    "#Load Investment Portfolio with brokerage portfolio data\n",
    "\n",
    "import datetime\n",
    "\n",
    "print (\"Add portfolio to Investment Portfolio service\")\n",
    "\n",
    "#create timestamp\n",
    "timestamp = '{:%Y-%m-%dT%H:%M:%S.%fZ}'.format(datetime.datetime.now())    \n",
    "\n",
    "#assign portfolio name and brokerage name\n",
    "IP_portfolio_name = portfolios_data[\"portfolios\"][0]['portfolio_name']\n",
    "IP_brokerage_name = portfolios_data[\"portfolios\"][0]['brokerage_name']\n",
    "\n",
    "print (\"Investment Portfolio - Name: \" + IP_portfolio_name)\n",
    "print (\"Investment Portfolio - Brokerage: \" + IP_brokerage_name)\n",
    "\n",
    "#make request for portfolio  \n",
    "BASEURL = \"https://investment-portfolio.mybluemix.net/api/v1/portfolios\"\n",
    "headers = {\n",
    "        'Content-Type': \"application/json\",\n",
    "        'Accept': \"application/json\"\n",
    "        }\n",
    "\n",
    "data = {\n",
    "    'name': IP_portfolio_name,\n",
    "    'timestamp': timestamp,\n",
    "    'closed': False,\n",
    "    'data': { 'brokerage': IP_brokerage_name }\n",
    "    }\n",
    "get_data = requests.post(BASEURL, auth=(IP_W_username, IP_W_password), headers=headers, data=json.dumps(data))\n",
    "\n",
    "#print the status and returned json\n",
    "status = get_data.status_code\n",
    "print(\"Investment Portfolio status: \" + str(status))\n",
    "\n",
    "if status != 200:\n",
    "    print(get_data)\n",
    "else:\n",
    "    data = get_data.json()\n",
    "    print (json.dumps(data, indent=4, sort_keys=True))"
   ]
  },
  {
   "cell_type": "markdown",
   "metadata": {},
   "source": [
    "## Step 9 - Load Investment Portfolio with holdings/positions\n",
    "\n",
    "The script below will load the portfolio's positions for the portfolio created in previous step as \"holdings\" in Investment Portfolio service. "
   ]
  },
  {
   "cell_type": "code",
   "execution_count": null,
   "metadata": {
    "collapsed": true
   },
   "outputs": [],
   "source": [
    "#Load holdings into Investment Portfolio for a portfolio\n",
    "\n",
    "print (\"Load Investment Portfolio Holdings\")\n",
    "\n",
    "holdings_data = []\n",
    "\n",
    "#read asset, quantity andd companyname from positions data and append the holdings array\n",
    "for positions in positions_data['positions']:\n",
    "    position_data = {}\n",
    "\n",
    "    if 'ticker' in positions:\n",
    "        position_data[\"asset\"] = positions['ticker']\n",
    "    if 'quantity' in positions:\n",
    "        position_data[\"quantity\"] = positions['quantity']\n",
    "    if 'ticker_name' in positions:\n",
    "        position_data[\"companyName\"] = positions['ticker_name']\n",
    "\n",
    "    if 'asset_class' in positions:\n",
    "        if positions['asset_class'] != 'Cash':\n",
    "            holdings_data.append(position_data)\n",
    "\n",
    "#make the request\n",
    "timestamp = '{:%Y-%m-%dT%H:%M:%S.%fZ}'.format(datetime.datetime.now())\n",
    "BASEURL = \"https://investment-portfolio.mybluemix.net/api/v1/portfolios/\" + IP_portfolio_name + \"/holdings\"\n",
    "headers = {\n",
    "    'Content-Type': \"application/json\",\n",
    "    'Accept': \"application/json\"\n",
    "    }\n",
    "data = {\n",
    "    'timestamp': timestamp,\n",
    "    'holdings': holdings_data,\n",
    "    }\n",
    "get_data = requests.post(BASEURL, auth=(IP_W_username, IP_W_password), headers=headers, data=json.dumps(data))\n",
    "\n",
    "#print the status and returned json\n",
    "status = get_data.status_code\n",
    "print(\"Investment Portfolio Holding status: \" + str(status))\n",
    "\n",
    "if status != 200:\n",
    "    print(get_data)\n",
    "else:\n",
    "    data = get_data.json()\n",
    "    print (json.dumps(data, indent=4, sort_keys=True))"
   ]
  },
  {
   "cell_type": "markdown",
   "metadata": {},
   "source": [
    "## Step 10 - View portfolio and holdings in Investment Portfolio\n",
    "\n",
    "To validate that things are running correctly, we can get portfolio data and portfolio holdings for our newly created portfolio in the Investment Portfolio service.  "
   ]
  },
  {
   "cell_type": "code",
   "execution_count": null,
   "metadata": {
    "collapsed": true
   },
   "outputs": [],
   "source": [
    "#View portfolio and holdings in Investment Portfolio\n",
    "\n",
    "#make the request for portfolios\n",
    "print (\"Get Portfolios from Investment Portfolio\")\n",
    "BASEURL = \"https://investment-portfolio.mybluemix.net/api/v1/portfolios/\"\n",
    "headers = {\n",
    "    'accept': \"application/json\",\n",
    "    'content-type': \"application/json\"\n",
    "    }\n",
    "get_data = requests.get(BASEURL, auth=(IP_R_username, IP_R_password), headers=headers)\n",
    "print(\"Investment Portfolio status: \" + str(get_data.status_code))\n",
    "\n",
    "#print json data\n",
    "data = get_data.json()\n",
    "print (json.dumps(data, indent=4, sort_keys=True))\n",
    "\n",
    "\n",
    "#make the request for holdings\n",
    "print (\"Get Portfolio Holdings for \" + IP_portfolio_name)\n",
    "BASEURL = \"https://investment-portfolio.mybluemix.net/api/v1/portfolios/\" + IP_portfolio_name + \"/holdings?latest=true\"\n",
    "headers = {\n",
    "    'accept': \"application/json\",\n",
    "    'content-type': \"application/json\"\n",
    "    }\n",
    "get_data = requests.get(BASEURL, auth=(IP_R_username, IP_R_password), headers=headers)\n",
    "print(\"Investment Portfolio - Get Portfolio Holdings status: \" + str(get_data.status_code))\n",
    "\n",
    "#print json data\n",
    "data = get_data.json()\n",
    "print (json.dumps(data, indent=4, sort_keys=True))"
   ]
  },
  {
   "cell_type": "code",
   "execution_count": null,
   "metadata": {
    "collapsed": true
   },
   "outputs": [],
   "source": []
  }
 ],
 "metadata": {
  "kernelspec": {
   "display_name": "Python 3",
   "language": "python",
   "name": "python3"
  },
  "language_info": {
   "codemirror_mode": {
    "name": "ipython",
    "version": 3
   },
   "file_extension": ".py",
   "mimetype": "text/x-python",
   "name": "python",
   "nbconvert_exporter": "python",
   "pygments_lexer": "ipython3",
   "version": "3.6.1"
  }
 },
 "nbformat": 4,
 "nbformat_minor": 2
}
