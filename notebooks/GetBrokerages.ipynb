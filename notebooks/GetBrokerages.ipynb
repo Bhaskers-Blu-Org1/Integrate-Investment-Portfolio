{
 "cells": [
  {
   "cell_type": "markdown",
   "metadata": {},
   "source": [
    "## Get Brokerages\n",
    "Retreive all the brokerages supported by Quovo.  \n",
    "Enter Access Token before running.  \n"
   ]
  },
  {
   "cell_type": "code",
   "execution_count": null,
   "metadata": {},
   "outputs": [],
   "source": [
    "import requests\n",
    "import json\n",
    "\n",
    "#enter token\n",
    "Token = \"\"\n",
    "\n",
    "#make the request\n",
    "print (\"Get Quovo brokerages\")\n",
    "BASEURL = \"https://api.quovo.com/v2/brokerages\"\n",
    "headers = {\n",
    "    'Authorization': \"Bearer \" + Token\n",
    "    }\n",
    "get_data = requests.get(BASEURL, headers=headers)\n",
    "\n",
    "#print json data\n",
    "data = get_data.json()\n",
    "print (json.dumps(data, indent=4, sort_keys=True))\n",
    "\n",
    "#write to brokerages.json\n",
    "json_data = json.dumps(data)\n",
    "f = open(\"brokerages.json\", \"w\")\n",
    "f.write(json_data)\n",
    "f.close()"
   ]
  }
 ],
 "metadata": {
  "kernelspec": {
   "display_name": "Python 3",
   "language": "python",
   "name": "python3"
  },
  "language_info": {
   "codemirror_mode": {
    "name": "ipython",
    "version": 3
   },
   "file_extension": ".py",
   "mimetype": "text/x-python",
   "name": "python",
   "nbconvert_exporter": "python",
   "pygments_lexer": "ipython3",
   "version": "3.6.1"
  }
 },
 "nbformat": 4,
 "nbformat_minor": 2
}
